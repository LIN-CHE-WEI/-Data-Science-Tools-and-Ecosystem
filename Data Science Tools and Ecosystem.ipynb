{
 "cells": [
  {
   "cell_type": "markdown",
   "id": "16809565-4ad7-49b0-bf77-45c8d43a2f05",
   "metadata": {},
   "source": [
    "# Data Science Tools and Ecosystem"
   ]
  },
  {
   "cell_type": "code",
   "execution_count": null,
   "id": "cc816d31-a4bb-43aa-a8bd-c3df2c9ce5f7",
   "metadata": {},
   "outputs": [],
   "source": [
    "#In this notebook, Data Science Tools and Ecosystem are summarized."
   ]
  },
  {
   "cell_type": "code",
   "execution_count": null,
   "id": "4fe4a6db-ac4e-45d4-bf35-01027a41ebb1",
   "metadata": {},
   "outputs": [],
   "source": [
    "### Below are a few examples of evaluating arithmetic expressions in Python."
   ]
  },
  {
   "cell_type": "code",
   "execution_count": null,
   "id": "ad2056fa-12e2-4c2b-a237-1383534b5d40",
   "metadata": {},
   "outputs": [],
   "source": [
    "python\\n# This a simple arithmetic expression to multiply then add integers\\n(3*4)+5\\n"
   ]
  },
  {
   "cell_type": "code",
   "execution_count": 2,
   "id": "96212f10-bccb-4437-968f-f4e43e7e8aa6",
   "metadata": {},
   "outputs": [
    {
     "data": {
      "text/plain": [
       "17"
      ]
     },
     "execution_count": 2,
     "metadata": {},
     "output_type": "execute_result"
    }
   ],
   "source": [
    "(3*4)+5"
   ]
  },
  {
   "cell_type": "code",
   "execution_count": null,
   "id": "47e6ed89-fcfa-4fe5-8030-bb1aeaf432d4",
   "metadata": {},
   "outputs": [],
   "source": [
    "python\\n# This will convert 200 minutes to hours by dividing by 60\\n200/60\\n"
   ]
  },
  {
   "cell_type": "code",
   "execution_count": 3,
   "id": "d7c90230-9828-422f-ada5-c823637978ce",
   "metadata": {},
   "outputs": [
    {
     "data": {
      "text/plain": [
       "33.333333333333336"
      ]
     },
     "execution_count": 3,
     "metadata": {},
     "output_type": "execute_result"
    }
   ],
   "source": [
    "200/6"
   ]
  },
  {
   "cell_type": "markdown",
   "id": "6301799b-14ce-4f3c-8b2f-aaa1609d87fb",
   "metadata": {},
   "source": [
    "| Data Science Tools |\n",
    "|--------------------|\n",
    "| JupyterLab |\n",
    "| RStudio |\n",
    "| VS Code |\n"
   ]
  },
  {
   "cell_type": "markdown",
   "id": "5c3f4494-7fbc-43f4-9635-23bd29fa93eb",
   "metadata": {},
   "source": [
    "Some of the popular languages that Data Scientists use are:\n",
    "1. Python\n",
    "2. R\n",
    "3. SQL"
   ]
  },
  {
   "cell_type": "markdown",
   "id": "fb3bc63d-de2f-44ce-965b-474ae26c5725",
   "metadata": {},
   "source": [
    "Some of the commonly used libraries used by Data Scientists include:\n",
    "1. Pandas\n",
    "2. NumPy\n",
    "3. Scikit-learn"
   ]
  },
  {
   "cell_type": "markdown",
   "id": "cd85dbb7-f437-474e-b353-0bb96600d402",
   "metadata": {},
   "source": [
    "**Objectives:**\n",
    "- List popular languages for Data Science\n",
    "- List commonly used libraries\n",
    "- Demonstrate arithmetic operations in Python"
   ]
  },
  {
   "cell_type": "markdown",
   "id": "d083b4c5-c12e-465d-a668-724903c571a8",
   "metadata": {},
   "source": [
    "Author:\n",
    "William"
   ]
  },
  {
   "cell_type": "code",
   "execution_count": null,
   "id": "25ac65ca-3f01-422d-ae1c-08d7bc4ecf20",
   "metadata": {},
   "outputs": [],
   "source": []
  }
 ],
 "metadata": {
  "kernelspec": {
   "display_name": "Python 3 (ipykernel)",
   "language": "python",
   "name": "python3"
  },
  "language_info": {
   "codemirror_mode": {
    "name": "ipython",
    "version": 3
   },
   "file_extension": ".py",
   "mimetype": "text/x-python",
   "name": "python",
   "nbconvert_exporter": "python",
   "pygments_lexer": "ipython3",
   "version": "3.12.5"
  }
 },
 "nbformat": 4,
 "nbformat_minor": 5
}
